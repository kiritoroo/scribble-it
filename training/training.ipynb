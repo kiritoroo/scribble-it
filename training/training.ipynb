{
 "cells": [
  {
   "cell_type": "markdown",
   "metadata": {},
   "source": [
    "> `nhập các thư viện sử dụng`"
   ]
  },
  {
   "cell_type": "code",
   "execution_count": 1,
   "metadata": {},
   "outputs": [
    {
     "name": "stdout",
     "output_type": "stream",
     "text": [
      "use: CPU\n"
     ]
    }
   ],
   "source": [
    "import os\n",
    "os.environ['TF_CPP_MIN_LOG_LEVEL'] = '3' \n",
    "\n",
    "import numpy as np\n",
    "import tensorflow as tf\n",
    "from tensorflow import keras\n",
    "from tensorflow.keras import layers\n",
    "import matplotlib.pyplot as plt\n",
    "import cv2\n",
    "\n",
    "physical_devices = tf.config.experimental.list_physical_devices('GPU')\n",
    "if physical_devices:\n",
    "  print('use: GPU')\n",
    "else:\n",
    "  print('use: CPU')"
   ]
  },
  {
   "cell_type": "code",
   "execution_count": 2,
   "metadata": {},
   "outputs": [],
   "source": [
    "DATASET_DIR = \"./data-augement/images-generate\"\n",
    "CATEGORIES = [\"one\", \"two\", \"three\", \"four\", \"five\", \"six\", \"seven\", \"eight\", \"nine\", \"ten\"]"
   ]
  },
  {
   "cell_type": "markdown",
   "metadata": {},
   "source": [
    "> `Nhập tập dữ liệu từ thư mục images-generate (bao gồm 20.000 ảnh)`"
   ]
  },
  {
   "cell_type": "code",
   "execution_count": 3,
   "metadata": {},
   "outputs": [
    {
     "name": "stdout",
     "output_type": "stream",
     "text": [
      "20000\n"
     ]
    }
   ],
   "source": [
    "training_data = []\n",
    "def create_training_data() -> None:\n",
    "  for category in CATEGORIES:\n",
    "    path = os.path.join(DATASET_DIR, category)\n",
    "    class_num = CATEGORIES.index(category)\n",
    "    for img in os.listdir(path):\n",
    "      try:\n",
    "        img_array = cv2.imread(os.path.join(path, img), cv2.IMREAD_GRAYSCALE)\n",
    "        training_data.append([img_array, class_num])\n",
    "      except Exception as e:\n",
    "        pass\n",
    "      \n",
    "create_training_data()\n",
    "print(len(training_data))"
   ]
  },
  {
   "cell_type": "markdown",
   "metadata": {},
   "source": [
    "> `Trộn ngẫu nhiên tập dữ liệu`"
   ]
  },
  {
   "cell_type": "code",
   "execution_count": 4,
   "metadata": {},
   "outputs": [],
   "source": [
    "import random\n",
    "random.shuffle(training_data)"
   ]
  },
  {
   "cell_type": "markdown",
   "metadata": {},
   "source": [
    "> `Tạo tập x_train và y_train`\n",
    "- x_train là mảng chứa 20.000 ảnh, mỗi ảnh là một mảng hai chiều có kích thước 28 x 28\n",
    "- Giá trị y_train là nhãn của x_train tương ứng (vd: x_train: ảnh số mười, y_train: 10)"
   ]
  },
  {
   "cell_type": "code",
   "execution_count": 5,
   "metadata": {},
   "outputs": [
    {
     "name": "stdout",
     "output_type": "stream",
     "text": [
      "(20000, 28, 28, 1)\n",
      "(20000, 10)\n",
      "(2000, 28, 28, 1)\n",
      "(2000, 10)\n"
     ]
    }
   ],
   "source": [
    "input_shape = (28, 28, 1)\n",
    "num_classes = 10\n",
    "\n",
    "x_train = []\n",
    "y_train = []\n",
    "\n",
    "for features, label in training_data:\n",
    "  x_train.append(features)\n",
    "  y_train.append(label)\n",
    "\n",
    "x_train = np.array(x_train).reshape(-1, 28, 28, 1)\n",
    "x_train = x_train.astype(\"float32\") / 255\n",
    "\n",
    "y_train = np.array(y_train)\n",
    "y_train = keras.utils.to_categorical(y_train, num_classes)\n",
    "\n",
    "print(x_train.shape)\n",
    "print(y_train.shape)\n",
    "\n",
    "x_test = x_train[int(0.9 * 20000):,:]\n",
    "y_test = y_train[int(0.9 * 20000):,:]\n",
    "print(x_test.shape)\n",
    "print(y_test.shape)"
   ]
  },
  {
   "cell_type": "markdown",
   "metadata": {},
   "source": [
    "> `Khởi tạo mô hình mạng nơ ron tích chập (CNN)`"
   ]
  },
  {
   "cell_type": "code",
   "execution_count": 6,
   "metadata": {},
   "outputs": [
    {
     "name": "stdout",
     "output_type": "stream",
     "text": [
      "Model: \"sequential\"\n",
      "_________________________________________________________________\n",
      " Layer (type)                Output Shape              Param #   \n",
      "=================================================================\n",
      " conv2d (Conv2D)             (None, 26, 26, 32)        320       \n",
      "                                                                 \n",
      " max_pooling2d (MaxPooling2D  (None, 13, 13, 32)       0         \n",
      " )                                                               \n",
      "                                                                 \n",
      " conv2d_1 (Conv2D)           (None, 11, 11, 64)        18496     \n",
      "                                                                 \n",
      " max_pooling2d_1 (MaxPooling  (None, 5, 5, 64)         0         \n",
      " 2D)                                                             \n",
      "                                                                 \n",
      " flatten (Flatten)           (None, 1600)              0         \n",
      "                                                                 \n",
      " dropout (Dropout)           (None, 1600)              0         \n",
      "                                                                 \n",
      " dense (Dense)               (None, 10)                16010     \n",
      "                                                                 \n",
      "=================================================================\n",
      "Total params: 34,826\n",
      "Trainable params: 34,826\n",
      "Non-trainable params: 0\n",
      "_________________________________________________________________\n"
     ]
    }
   ],
   "source": [
    "model = keras.Sequential(\n",
    "  [\n",
    "    keras.Input(shape=input_shape),\n",
    "    layers.Conv2D(32, kernel_size=(3, 3), activation=\"relu\"),\n",
    "    layers.MaxPooling2D(pool_size=(2, 2)),\n",
    "    layers.Conv2D(64, kernel_size=(3, 3), activation=\"relu\"),\n",
    "    layers.MaxPooling2D(pool_size=(2, 2)),\n",
    "    layers.Flatten(),\n",
    "    layers.Dropout(0.5),\n",
    "    layers.Dense(num_classes, activation=\"softmax\"),\n",
    "  ]\n",
    ")\n",
    "\n",
    "model.summary()"
   ]
  },
  {
   "cell_type": "markdown",
   "metadata": {},
   "source": [
    "> `Thực hiện training dữ liệu, epochs = 20 (~ số lần đưa tập dữ liệu vào mạng nơ ron)`"
   ]
  },
  {
   "cell_type": "code",
   "execution_count": 7,
   "metadata": {},
   "outputs": [
    {
     "name": "stdout",
     "output_type": "stream",
     "text": [
      "Epoch 1/20\n",
      "141/141 [==============================] - 18s 119ms/step - loss: 1.6567 - accuracy: 0.4332 - val_loss: 0.9902 - val_accuracy: 0.7020\n",
      "Epoch 2/20\n",
      "141/141 [==============================] - 16s 117ms/step - loss: 0.8393 - accuracy: 0.7324 - val_loss: 0.5526 - val_accuracy: 0.8320\n",
      "Epoch 3/20\n",
      "141/141 [==============================] - 18s 129ms/step - loss: 0.5442 - accuracy: 0.8304 - val_loss: 0.3618 - val_accuracy: 0.9010\n",
      "Epoch 4/20\n",
      "141/141 [==============================] - 32s 226ms/step - loss: 0.4008 - accuracy: 0.8763 - val_loss: 0.2664 - val_accuracy: 0.9375\n",
      "Epoch 5/20\n",
      "141/141 [==============================] - 29s 206ms/step - loss: 0.3189 - accuracy: 0.9000 - val_loss: 0.2063 - val_accuracy: 0.9435\n",
      "Epoch 6/20\n",
      "141/141 [==============================] - 21s 150ms/step - loss: 0.2655 - accuracy: 0.9194 - val_loss: 0.1698 - val_accuracy: 0.9530\n",
      "Epoch 7/20\n",
      "141/141 [==============================] - 20s 142ms/step - loss: 0.2305 - accuracy: 0.9313 - val_loss: 0.1396 - val_accuracy: 0.9645\n",
      "Epoch 8/20\n",
      "141/141 [==============================] - 18s 127ms/step - loss: 0.2020 - accuracy: 0.9384 - val_loss: 0.1293 - val_accuracy: 0.9665\n",
      "Epoch 9/20\n",
      "141/141 [==============================] - 14s 102ms/step - loss: 0.1778 - accuracy: 0.9464 - val_loss: 0.1161 - val_accuracy: 0.9690\n",
      "Epoch 10/20\n",
      "141/141 [==============================] - 12s 86ms/step - loss: 0.1738 - accuracy: 0.9460 - val_loss: 0.0971 - val_accuracy: 0.9760\n",
      "Epoch 11/20\n",
      "141/141 [==============================] - 13s 90ms/step - loss: 0.1508 - accuracy: 0.9543 - val_loss: 0.0960 - val_accuracy: 0.9750\n",
      "Epoch 12/20\n",
      "141/141 [==============================] - 14s 100ms/step - loss: 0.1423 - accuracy: 0.9547 - val_loss: 0.0801 - val_accuracy: 0.9800\n",
      "Epoch 13/20\n",
      "141/141 [==============================] - 11s 79ms/step - loss: 0.1253 - accuracy: 0.9607 - val_loss: 0.0734 - val_accuracy: 0.9805\n",
      "Epoch 14/20\n",
      "141/141 [==============================] - 13s 90ms/step - loss: 0.1232 - accuracy: 0.9623 - val_loss: 0.0733 - val_accuracy: 0.9790\n",
      "Epoch 15/20\n",
      "141/141 [==============================] - 11s 78ms/step - loss: 0.1130 - accuracy: 0.9668 - val_loss: 0.0674 - val_accuracy: 0.9830\n",
      "Epoch 16/20\n",
      "141/141 [==============================] - 13s 95ms/step - loss: 0.1049 - accuracy: 0.9671 - val_loss: 0.0615 - val_accuracy: 0.9810\n",
      "Epoch 17/20\n",
      "141/141 [==============================] - 12s 83ms/step - loss: 0.0971 - accuracy: 0.9707 - val_loss: 0.0553 - val_accuracy: 0.9845\n",
      "Epoch 18/20\n",
      "141/141 [==============================] - 12s 84ms/step - loss: 0.0854 - accuracy: 0.9745 - val_loss: 0.0509 - val_accuracy: 0.9815\n",
      "Epoch 19/20\n",
      "141/141 [==============================] - 12s 87ms/step - loss: 0.0906 - accuracy: 0.9713 - val_loss: 0.0518 - val_accuracy: 0.9835\n",
      "Epoch 20/20\n",
      "141/141 [==============================] - 13s 90ms/step - loss: 0.0838 - accuracy: 0.9756 - val_loss: 0.0456 - val_accuracy: 0.9860\n"
     ]
    }
   ],
   "source": [
    "batch_size = 128\n",
    "epochs = 20\n",
    "\n",
    "model.compile(loss=\"categorical_crossentropy\", optimizer=\"adam\", metrics=[\"accuracy\"])\n",
    "H = model.fit(x_train, y_train, batch_size=batch_size, epochs=epochs, validation_split=0.1)"
   ]
  },
  {
   "cell_type": "markdown",
   "metadata": {},
   "source": [
    "> `Đánh giá kết quả với tập dữ liệu test và lưu model vào thư mục out`"
   ]
  },
  {
   "cell_type": "code",
   "execution_count": 8,
   "metadata": {},
   "outputs": [
    {
     "name": "stdout",
     "output_type": "stream",
     "text": [
      "63/63 [==============================] - 0s 7ms/step - loss: 0.0456 - accuracy: 0.9860\n",
      "Test loss: 0.045638468116521835\n",
      "Test accuracy: 0.9860000014305115\n"
     ]
    }
   ],
   "source": [
    "score = model.evaluate(x_test, y_test)\n",
    "print(\"Test loss:\", score[0])\n",
    "print(\"Test accuracy:\", score[1])\n",
    "\n",
    "model.save('out/model_characters.h5')"
   ]
  },
  {
   "cell_type": "markdown",
   "metadata": {},
   "source": [
    "> `Trực quan hóa kết quả`"
   ]
  },
  {
   "cell_type": "code",
   "execution_count": 9,
   "metadata": {},
   "outputs": [
    {
     "data": {
      "image/png": "[encoded data removed]",
      "text/plain": [
       "<Figure size 640x480 with 1 Axes>"
      ]
     },
     "metadata": {},
     "output_type": "display_data"
    }
   ],
   "source": [
    "plt.style.use(\"ggplot\")\n",
    "plt.figure()\n",
    "N = epochs\n",
    "plt.plot(np.arange(0,N), H.history[\"loss\"], label=\"train_loss\")\n",
    "plt.plot(np.arange(0,N), H.history[\"val_loss\"], label=\"val_loss\")\n",
    "plt.plot(np.arange(0,N), H.history[\"accuracy\"], label=\"train_acc\")\n",
    "plt.plot(np.arange(0,N), H.history[\"val_accuracy\"], label=\"val_acc\")\n",
    "\n",
    "plt.title(\"Training Loss and Accuracy\")\n",
    "plt.xlabel(\"Epoch #\")\n",
    "plt.ylabel(\"Loss/Accuracy\")\n",
    "plt.legend(loc=\"upper right\")"
   ]
  }
 ],
 "metadata": {
  "kernelspec": {
   "display_name": "Python 3.10.7 64-bit",
   "language": "python",
   "name": "python3"
  },
  "language_info": {
   "codemirror_mode": {
    "name": "ipython",
    "version": 3
   },
   "file_extension": ".py",
   "mimetype": "text/x-python",
   "name": "python",
   "nbconvert_exporter": "python",
   "pygments_lexer": "ipython3",
   "version": "3.10.7"
  },
  "orig_nbformat": 4,
  "vscode": {
   "interpreter": {
    "hash": "e897c550e94c5fc911e005a5bf3bf0f508c13bb9e0eb4dacf44f1f6397443d70"
   }
  }
 },
 "nbformat": 4,
 "nbformat_minor": 2
}
